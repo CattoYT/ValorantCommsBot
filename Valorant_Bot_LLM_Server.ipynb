{
  "nbformat": 4,
  "nbformat_minor": 0,
  "metadata": {
    "colab": {
      "provenance": [],
      "gpuType": "T4",
      "authorship_tag": "ABX9TyNaVtHy7jLnOSY7x2Knogt7",
      "include_colab_link": true
    },
    "kernelspec": {
      "name": "python3",
      "display_name": "Python 3"
    },
    "language_info": {
      "name": "python"
    },
    "accelerator": "GPU",
    "widgets": {
      "application/vnd.jupyter.widget-state+json": {
        "7199a7eede5a465096f1a263672fe0ef": {
          "model_module": "@jupyter-widgets/controls",
          "model_name": "HBoxModel",
          "model_module_version": "1.5.0",
          "state": {
            "_dom_classes": [],
            "_model_module": "@jupyter-widgets/controls",
            "_model_module_version": "1.5.0",
            "_model_name": "HBoxModel",
            "_view_count": null,
            "_view_module": "@jupyter-widgets/controls",
            "_view_module_version": "1.5.0",
            "_view_name": "HBoxView",
            "box_style": "",
            "children": [
              "IPY_MODEL_e9e58ccda48d43ba80c845419aa79be3",
              "IPY_MODEL_e2f94b4c1d6641b9bbfaad2192e5b921",
              "IPY_MODEL_3bc10be74ac3457abf082de6daf66eb1"
            ],
            "layout": "IPY_MODEL_79721614ed6d4df98515bee83158bf1c"
          }
        },
        "e9e58ccda48d43ba80c845419aa79be3": {
          "model_module": "@jupyter-widgets/controls",
          "model_name": "HTMLModel",
          "model_module_version": "1.5.0",
          "state": {
            "_dom_classes": [],
            "_model_module": "@jupyter-widgets/controls",
            "_model_module_version": "1.5.0",
            "_model_name": "HTMLModel",
            "_view_count": null,
            "_view_module": "@jupyter-widgets/controls",
            "_view_module_version": "1.5.0",
            "_view_name": "HTMLView",
            "description": "",
            "description_tooltip": null,
            "layout": "IPY_MODEL_cb0854efbe5e4248ba5c20a6807932cc",
            "placeholder": "​",
            "style": "IPY_MODEL_bba4f77586724af9b9d3a8abbcf9b214",
            "value": "Meta-Llama-3.1-8B-Instruct-Q4_K_M.gguf: 100%"
          }
        },
        "e2f94b4c1d6641b9bbfaad2192e5b921": {
          "model_module": "@jupyter-widgets/controls",
          "model_name": "FloatProgressModel",
          "model_module_version": "1.5.0",
          "state": {
            "_dom_classes": [],
            "_model_module": "@jupyter-widgets/controls",
            "_model_module_version": "1.5.0",
            "_model_name": "FloatProgressModel",
            "_view_count": null,
            "_view_module": "@jupyter-widgets/controls",
            "_view_module_version": "1.5.0",
            "_view_name": "ProgressView",
            "bar_style": "success",
            "description": "",
            "description_tooltip": null,
            "layout": "IPY_MODEL_968603c7f16e47cba5f180e65210bc8d",
            "max": 4920739232,
            "min": 0,
            "orientation": "horizontal",
            "style": "IPY_MODEL_05d34c13748143a3bc36676843c67e6c",
            "value": 4920739232
          }
        },
        "3bc10be74ac3457abf082de6daf66eb1": {
          "model_module": "@jupyter-widgets/controls",
          "model_name": "HTMLModel",
          "model_module_version": "1.5.0",
          "state": {
            "_dom_classes": [],
            "_model_module": "@jupyter-widgets/controls",
            "_model_module_version": "1.5.0",
            "_model_name": "HTMLModel",
            "_view_count": null,
            "_view_module": "@jupyter-widgets/controls",
            "_view_module_version": "1.5.0",
            "_view_name": "HTMLView",
            "description": "",
            "description_tooltip": null,
            "layout": "IPY_MODEL_217f0de044fe4cca91761dc9282f3773",
            "placeholder": "​",
            "style": "IPY_MODEL_04eebdabf6094e7ba39ce3a9e5aeba9e",
            "value": " 4.92G/4.92G [02:01&lt;00:00, 43.3MB/s]"
          }
        },
        "79721614ed6d4df98515bee83158bf1c": {
          "model_module": "@jupyter-widgets/base",
          "model_name": "LayoutModel",
          "model_module_version": "1.2.0",
          "state": {
            "_model_module": "@jupyter-widgets/base",
            "_model_module_version": "1.2.0",
            "_model_name": "LayoutModel",
            "_view_count": null,
            "_view_module": "@jupyter-widgets/base",
            "_view_module_version": "1.2.0",
            "_view_name": "LayoutView",
            "align_content": null,
            "align_items": null,
            "align_self": null,
            "border": null,
            "bottom": null,
            "display": null,
            "flex": null,
            "flex_flow": null,
            "grid_area": null,
            "grid_auto_columns": null,
            "grid_auto_flow": null,
            "grid_auto_rows": null,
            "grid_column": null,
            "grid_gap": null,
            "grid_row": null,
            "grid_template_areas": null,
            "grid_template_columns": null,
            "grid_template_rows": null,
            "height": null,
            "justify_content": null,
            "justify_items": null,
            "left": null,
            "margin": null,
            "max_height": null,
            "max_width": null,
            "min_height": null,
            "min_width": null,
            "object_fit": null,
            "object_position": null,
            "order": null,
            "overflow": null,
            "overflow_x": null,
            "overflow_y": null,
            "padding": null,
            "right": null,
            "top": null,
            "visibility": null,
            "width": null
          }
        },
        "cb0854efbe5e4248ba5c20a6807932cc": {
          "model_module": "@jupyter-widgets/base",
          "model_name": "LayoutModel",
          "model_module_version": "1.2.0",
          "state": {
            "_model_module": "@jupyter-widgets/base",
            "_model_module_version": "1.2.0",
            "_model_name": "LayoutModel",
            "_view_count": null,
            "_view_module": "@jupyter-widgets/base",
            "_view_module_version": "1.2.0",
            "_view_name": "LayoutView",
            "align_content": null,
            "align_items": null,
            "align_self": null,
            "border": null,
            "bottom": null,
            "display": null,
            "flex": null,
            "flex_flow": null,
            "grid_area": null,
            "grid_auto_columns": null,
            "grid_auto_flow": null,
            "grid_auto_rows": null,
            "grid_column": null,
            "grid_gap": null,
            "grid_row": null,
            "grid_template_areas": null,
            "grid_template_columns": null,
            "grid_template_rows": null,
            "height": null,
            "justify_content": null,
            "justify_items": null,
            "left": null,
            "margin": null,
            "max_height": null,
            "max_width": null,
            "min_height": null,
            "min_width": null,
            "object_fit": null,
            "object_position": null,
            "order": null,
            "overflow": null,
            "overflow_x": null,
            "overflow_y": null,
            "padding": null,
            "right": null,
            "top": null,
            "visibility": null,
            "width": null
          }
        },
        "bba4f77586724af9b9d3a8abbcf9b214": {
          "model_module": "@jupyter-widgets/controls",
          "model_name": "DescriptionStyleModel",
          "model_module_version": "1.5.0",
          "state": {
            "_model_module": "@jupyter-widgets/controls",
            "_model_module_version": "1.5.0",
            "_model_name": "DescriptionStyleModel",
            "_view_count": null,
            "_view_module": "@jupyter-widgets/base",
            "_view_module_version": "1.2.0",
            "_view_name": "StyleView",
            "description_width": ""
          }
        },
        "968603c7f16e47cba5f180e65210bc8d": {
          "model_module": "@jupyter-widgets/base",
          "model_name": "LayoutModel",
          "model_module_version": "1.2.0",
          "state": {
            "_model_module": "@jupyter-widgets/base",
            "_model_module_version": "1.2.0",
            "_model_name": "LayoutModel",
            "_view_count": null,
            "_view_module": "@jupyter-widgets/base",
            "_view_module_version": "1.2.0",
            "_view_name": "LayoutView",
            "align_content": null,
            "align_items": null,
            "align_self": null,
            "border": null,
            "bottom": null,
            "display": null,
            "flex": null,
            "flex_flow": null,
            "grid_area": null,
            "grid_auto_columns": null,
            "grid_auto_flow": null,
            "grid_auto_rows": null,
            "grid_column": null,
            "grid_gap": null,
            "grid_row": null,
            "grid_template_areas": null,
            "grid_template_columns": null,
            "grid_template_rows": null,
            "height": null,
            "justify_content": null,
            "justify_items": null,
            "left": null,
            "margin": null,
            "max_height": null,
            "max_width": null,
            "min_height": null,
            "min_width": null,
            "object_fit": null,
            "object_position": null,
            "order": null,
            "overflow": null,
            "overflow_x": null,
            "overflow_y": null,
            "padding": null,
            "right": null,
            "top": null,
            "visibility": null,
            "width": null
          }
        },
        "05d34c13748143a3bc36676843c67e6c": {
          "model_module": "@jupyter-widgets/controls",
          "model_name": "ProgressStyleModel",
          "model_module_version": "1.5.0",
          "state": {
            "_model_module": "@jupyter-widgets/controls",
            "_model_module_version": "1.5.0",
            "_model_name": "ProgressStyleModel",
            "_view_count": null,
            "_view_module": "@jupyter-widgets/base",
            "_view_module_version": "1.2.0",
            "_view_name": "StyleView",
            "bar_color": null,
            "description_width": ""
          }
        },
        "217f0de044fe4cca91761dc9282f3773": {
          "model_module": "@jupyter-widgets/base",
          "model_name": "LayoutModel",
          "model_module_version": "1.2.0",
          "state": {
            "_model_module": "@jupyter-widgets/base",
            "_model_module_version": "1.2.0",
            "_model_name": "LayoutModel",
            "_view_count": null,
            "_view_module": "@jupyter-widgets/base",
            "_view_module_version": "1.2.0",
            "_view_name": "LayoutView",
            "align_content": null,
            "align_items": null,
            "align_self": null,
            "border": null,
            "bottom": null,
            "display": null,
            "flex": null,
            "flex_flow": null,
            "grid_area": null,
            "grid_auto_columns": null,
            "grid_auto_flow": null,
            "grid_auto_rows": null,
            "grid_column": null,
            "grid_gap": null,
            "grid_row": null,
            "grid_template_areas": null,
            "grid_template_columns": null,
            "grid_template_rows": null,
            "height": null,
            "justify_content": null,
            "justify_items": null,
            "left": null,
            "margin": null,
            "max_height": null,
            "max_width": null,
            "min_height": null,
            "min_width": null,
            "object_fit": null,
            "object_position": null,
            "order": null,
            "overflow": null,
            "overflow_x": null,
            "overflow_y": null,
            "padding": null,
            "right": null,
            "top": null,
            "visibility": null,
            "width": null
          }
        },
        "04eebdabf6094e7ba39ce3a9e5aeba9e": {
          "model_module": "@jupyter-widgets/controls",
          "model_name": "DescriptionStyleModel",
          "model_module_version": "1.5.0",
          "state": {
            "_model_module": "@jupyter-widgets/controls",
            "_model_module_version": "1.5.0",
            "_model_name": "DescriptionStyleModel",
            "_view_count": null,
            "_view_module": "@jupyter-widgets/base",
            "_view_module_version": "1.2.0",
            "_view_name": "StyleView",
            "description_width": ""
          }
        }
      }
    }
  },
  "cells": [
    {
      "cell_type": "markdown",
      "metadata": {
        "id": "view-in-github",
        "colab_type": "text"
      },
      "source": [
        "<a href=\"https://colab.research.google.com/github/CattoYT/ValorantCommsBot/blob/rewrite/Valorant_Bot_LLM_Server.ipynb\" target=\"_parent\"><img src=\"https://colab.research.google.com/assets/colab-badge.svg\" alt=\"Open In Colab\"/></a>"
      ]
    },
    {
      "cell_type": "code",
      "execution_count": 1,
      "metadata": {
        "id": "mWUIlVBoufYe",
        "colab": {
          "base_uri": "https://localhost:8080/",
          "height": 761,
          "referenced_widgets": [
            "7199a7eede5a465096f1a263672fe0ef",
            "e9e58ccda48d43ba80c845419aa79be3",
            "e2f94b4c1d6641b9bbfaad2192e5b921",
            "3bc10be74ac3457abf082de6daf66eb1",
            "79721614ed6d4df98515bee83158bf1c",
            "cb0854efbe5e4248ba5c20a6807932cc",
            "bba4f77586724af9b9d3a8abbcf9b214",
            "968603c7f16e47cba5f180e65210bc8d",
            "05d34c13748143a3bc36676843c67e6c",
            "217f0de044fe4cca91761dc9282f3773",
            "04eebdabf6094e7ba39ce3a9e5aeba9e"
          ]
        },
        "outputId": "571eaea2-7940-4dc8-9b56-1b38592d21ba",
        "collapsed": true
      },
      "outputs": [
        {
          "output_type": "stream",
          "name": "stdout",
          "text": [
            "Collecting diskcache\n",
            "  Downloading diskcache-5.6.3-py3-none-any.whl.metadata (20 kB)\n",
            "Collecting flask_ngrok2\n",
            "  Downloading flask_ngrok2-0.2.4-py3-none-any.whl.metadata (4.4 kB)\n",
            "Collecting pyngrok\n",
            "  Downloading pyngrok-7.2.0-py3-none-any.whl.metadata (7.4 kB)\n",
            "Requirement already satisfied: Flask>=0.8 in /usr/local/lib/python3.10/dist-packages (from flask_ngrok2) (2.2.5)\n",
            "Requirement already satisfied: requests in /usr/local/lib/python3.10/dist-packages (from flask_ngrok2) (2.32.3)\n",
            "Requirement already satisfied: PyYAML>=5.1 in /usr/local/lib/python3.10/dist-packages (from pyngrok) (6.0.2)\n",
            "Requirement already satisfied: Werkzeug>=2.2.2 in /usr/local/lib/python3.10/dist-packages (from Flask>=0.8->flask_ngrok2) (3.0.3)\n",
            "Requirement already satisfied: Jinja2>=3.0 in /usr/local/lib/python3.10/dist-packages (from Flask>=0.8->flask_ngrok2) (3.1.4)\n",
            "Requirement already satisfied: itsdangerous>=2.0 in /usr/local/lib/python3.10/dist-packages (from Flask>=0.8->flask_ngrok2) (2.2.0)\n",
            "Requirement already satisfied: click>=8.0 in /usr/local/lib/python3.10/dist-packages (from Flask>=0.8->flask_ngrok2) (8.1.7)\n",
            "Requirement already satisfied: charset-normalizer<4,>=2 in /usr/local/lib/python3.10/dist-packages (from requests->flask_ngrok2) (3.3.2)\n",
            "Requirement already satisfied: idna<4,>=2.5 in /usr/local/lib/python3.10/dist-packages (from requests->flask_ngrok2) (3.7)\n",
            "Requirement already satisfied: urllib3<3,>=1.21.1 in /usr/local/lib/python3.10/dist-packages (from requests->flask_ngrok2) (2.0.7)\n",
            "Requirement already satisfied: certifi>=2017.4.17 in /usr/local/lib/python3.10/dist-packages (from requests->flask_ngrok2) (2024.7.4)\n",
            "Requirement already satisfied: MarkupSafe>=2.0 in /usr/local/lib/python3.10/dist-packages (from Jinja2>=3.0->Flask>=0.8->flask_ngrok2) (2.1.5)\n",
            "Downloading diskcache-5.6.3-py3-none-any.whl (45 kB)\n",
            "\u001b[2K   \u001b[90m━━━━━━━━━━━━━━━━━━━━━━━━━━━━━━━━━━━━━━━━\u001b[0m \u001b[32m45.5/45.5 kB\u001b[0m \u001b[31m2.2 MB/s\u001b[0m eta \u001b[36m0:00:00\u001b[0m\n",
            "\u001b[?25hDownloading flask_ngrok2-0.2.4-py3-none-any.whl (5.9 kB)\n",
            "Downloading pyngrok-7.2.0-py3-none-any.whl (22 kB)\n",
            "Installing collected packages: pyngrok, diskcache, flask_ngrok2\n",
            "Successfully installed diskcache-5.6.3 flask_ngrok2-0.2.4 pyngrok-7.2.0\n",
            "Looking in indexes: https://abetlen.github.io/llama-cpp-python/whl/cu122\n",
            "Collecting llama-cpp-python\n",
            "  Downloading https://github.com/abetlen/llama-cpp-python/releases/download/v0.2.87-cu122/llama_cpp_python-0.2.87-cp310-cp310-linux_x86_64.whl (394.5 MB)\n",
            "\u001b[2K     \u001b[90m━━━━━━━━━━━━━━━━━━━━━━━━━━━━━━━━━━━━━━━━\u001b[0m \u001b[32m394.5/394.5 MB\u001b[0m \u001b[31m4.0 MB/s\u001b[0m eta \u001b[36m0:00:00\u001b[0m\n",
            "\u001b[?25hRequirement already satisfied: typing-extensions>=4.5.0 in /usr/local/lib/python3.10/dist-packages (from llama-cpp-python) (4.12.2)\n",
            "Requirement already satisfied: numpy>=1.20.0 in /usr/local/lib/python3.10/dist-packages (from llama-cpp-python) (1.26.4)\n",
            "Requirement already satisfied: diskcache>=5.6.1 in /usr/local/lib/python3.10/dist-packages (from llama-cpp-python) (5.6.3)\n",
            "Requirement already satisfied: jinja2>=2.11.3 in /usr/local/lib/python3.10/dist-packages (from llama-cpp-python) (3.1.4)\n",
            "Requirement already satisfied: MarkupSafe>=2.0 in /usr/local/lib/python3.10/dist-packages (from jinja2>=2.11.3->llama-cpp-python) (2.1.5)\n",
            "Installing collected packages: llama-cpp-python\n",
            "Successfully installed llama-cpp-python-0.2.87\n"
          ]
        },
        {
          "output_type": "stream",
          "name": "stderr",
          "text": [
            "/usr/local/lib/python3.10/dist-packages/huggingface_hub/utils/_token.py:89: UserWarning: \n",
            "The secret `HF_TOKEN` does not exist in your Colab secrets.\n",
            "To authenticate with the Hugging Face Hub, create a token in your settings tab (https://huggingface.co/settings/tokens), set it as secret in your Google Colab and restart your session.\n",
            "You will be able to reuse this secret in all of your notebooks.\n",
            "Please note that authentication is recommended but still optional to access public models or datasets.\n",
            "  warnings.warn(\n"
          ]
        },
        {
          "output_type": "display_data",
          "data": {
            "text/plain": [
              "Meta-Llama-3.1-8B-Instruct-Q4_K_M.gguf:   0%|          | 0.00/4.92G [00:00<?, ?B/s]"
            ],
            "application/vnd.jupyter.widget-view+json": {
              "version_major": 2,
              "version_minor": 0,
              "model_id": "7199a7eede5a465096f1a263672fe0ef"
            }
          },
          "metadata": {}
        }
      ],
      "source": [
        "\n",
        "!pip install diskcache flask_ngrok2 pyngrok\n",
        "\n",
        "# DO NOT SET THIS TO EXTRA INDEX URL, YOU WILL MESS STUFF UP BADLY WIKTH PERFORAMNCE\n",
        "!pip install -U llama-cpp-python --index-url https://abetlen.github.io/llama-cpp-python/whl/cu122\n",
        "\n",
        "\n",
        "# a little code is taken from a previous project\n",
        "from llama_cpp import Llama\n",
        "class llamaLLM:\n",
        "    def __init__(self, systemprompt, model=\"bartowski/Meta-Llama-3.1-8B-Instruct-GGUF\", filename=\"Meta-Llama-3.1-8B-Instruct-Q4_K_M.gguf\"):\n",
        "\n",
        "\n",
        "        self.messages = [\n",
        "            # Sample data fed because I couldn't think of a way to get it to say the right shit\n",
        "          {\"role\": \"system\", \"content\": systemprompt},\n",
        "          {\"role\": \"user\", \"content\": \"(party) teammate: clove hit 70\"},\n",
        "          {\"role\": \"assistant\", \"content\": \"[HEALTHINDICATOR] Clove -70\"},\n",
        "          {\"role\": \"user\", \"content\": \"(party) teammate: brim -140\"},\n",
        "          {\"role\": \"assistant\", \"content\": \"[HEALTHINDICATOR] Brimstone -140\"},\n",
        "        ]\n",
        "\n",
        "        self.llm = Llama.from_pretrained(\n",
        "            repo_id=model,\n",
        "            filename=filename,\n",
        "            verbose=False,\n",
        "            n_gpu_layers=-1,\n",
        "            n_ctx=4096\n",
        "        )\n",
        "    def addToConversation(self, content, role):\n",
        "        self.messages.append(\n",
        "              {\n",
        "                  \"role\": role,\n",
        "                  \"content\": content\n",
        "              }\n",
        "          )\n",
        "    def generateConversationResponse(self, message, person=\"user\"):\n",
        "        self.addToConversation(message, person) # it can also be system\n",
        "        response = self.llm.create_chat_completion(self.messages)[\"choices\"][0]['message']['content'] # forgive me\n",
        "        self.addToConversation(response, \"assistant\")\n",
        "        return response # no genuinely what the fuck is this\n",
        "\n",
        "llm = llamaLLM(\"\"\"\n",
        "You are a gamer playing Valorant, and are talking in the in-game chat. Your teammates may callout damage to certain agents like 'jett 40' or 'sage -120'.\n",
        "If this sent, you must respond in the format of \"[HEALTHINDICATOR] {Agent} {Damange}\", where agent, (Any valorant agent) and damage are replaced with the agent and the amount of damage,\n",
        "but [HEALTHINDICATOR] must be as it is in front. It should not be replaced in any way. The damage should not accumulate. Only output the new damage value and not the total damage\n",
        "\n",
        "There may be other words such as hit or damaged or any other word like that to reference damage.\n",
        "Most other information should be removed if it doesn't fit this format\n",
        "When the message you need to respond to is not a form of callout, in location or damage, you can respond naturally. Use informal speech, no capital letters, and little punctuation except where necessary, such as commas to separate different clauses.\n",
        "\n",
        "In cases where the teammate is calling out status, and no extra callouts need to be given, do not give extra callouts. In caess where the teammate is agreeing with you, you should not respond.\n",
        "When at least 2 people say gg, or ggwp, respond with ggwp\n",
        "\n",
        "\n",
        "The following are valid Valorant Agents:\n",
        "brimstone phoenix sage sova viper cypher reyna killjoy breach omen jett raze skye yoru astra kayo chamber neon fade harbor gekko deadlock iso clove\n",
        "There may be abbreviations used for each agent, such as KJ for killjoy or DL for deadlock.\n",
        "\"\"\")\n",
        "\n",
        "#while True:\n",
        "#    print()\n"
      ]
    },
    {
      "cell_type": "code",
      "source": [
        "from flask import Flask, request, jsonify\n",
        "from pyngrok import conf, ngrok\n",
        "from google.colab import userdata\n",
        "import threading\n",
        "import json\n",
        "\n",
        "app = Flask(__name__)\n",
        "conf.get_default().auth_token = userdata.get('NGROKToken')\n",
        "\n",
        "\n",
        "public_url = ngrok.connect(\"80\", domain=\"cheaply-caring-pup.ngrok-free.app\").public_url\n",
        "print(\" * ngrok tunnel \\\"{}\\\" -> \\\"http://127.0.0.1:{}\\\"\".format(public_url, \"80\"))\n",
        "\n",
        "app.config[\"BASE_URL\"] = public_url\n",
        "\n",
        "# basic, will improve later\n",
        "# may need to change this later if its not needed\n",
        "class ValorantChat:\n",
        "    def __init__(self, channel, user, line):\n",
        "        self.channel = channel\n",
        "        self.user = user\n",
        "        self.line = line\n",
        "\n",
        "    def Empty(self):\n",
        "        self.channel = \"\"\n",
        "        self.user = \"\"\n",
        "        self.line = \"\"\n",
        "\n",
        "    def json(self):\n",
        "        return json.dumps(\n",
        "            {\n",
        "                \"channel\": self.channel,\n",
        "                \"user\": self.user,\n",
        "                \"line\": self.line\n",
        "            }\n",
        "        )\n",
        "\n",
        "    def raw(self):\n",
        "        return f\"({self.channel}) {self.user}{self.line}\"\n",
        "\n",
        "@app.route('/', methods=['POST'])\n",
        "def processChat():\n",
        "    chatmsg = json.loads(request.json)\n",
        "\n",
        "    chatmsg = ValorantChat(chatmsg[\"channel\"], chatmsg[\"user\"], chatmsg[\"line\"])\n",
        "\n",
        "    print(chatmsg.raw())\n",
        "    response = llm.generateConversationResponse(chatmsg.raw)\n",
        "    print(response + \"\\n\")\n",
        "    return response\n",
        "    pass\n",
        "\n",
        "def start():\n",
        "    app.run(host='0.0.0.0', port=80)\n",
        "\n",
        "start()"
      ],
      "metadata": {
        "id": "DhYusR91acJs",
        "colab": {
          "base_uri": "https://localhost:8080/"
        },
        "outputId": "b849ec32-b2ff-4a71-fcb1-dc97aacabe6a"
      },
      "execution_count": 2,
      "outputs": [
        {
          "output_type": "stream",
          "name": "stdout",
          "text": [
            " * ngrok tunnel \"https://cheaply-caring-pup.ngrok-free.app\" -> \"http://127.0.0.1:80\"\n",
            " * Serving Flask app '__main__'\n",
            " * Debug mode: off\n"
          ]
        },
        {
          "output_type": "stream",
          "name": "stderr",
          "text": [
            "INFO:werkzeug:\u001b[31m\u001b[1mWARNING: This is a development server. Do not use it in a production deployment. Use a production WSGI server instead.\u001b[0m\n",
            " * Running on all addresses (0.0.0.0)\n",
            " * Running on http://127.0.0.1:80\n",
            " * Running on http://172.28.0.12:80\n",
            "INFO:werkzeug:\u001b[33mPress CTRL+C to quit\u001b[0m\n"
          ]
        },
        {
          "output_type": "stream",
          "name": "stdout",
          "text": [
            "(All) Ansah: ez\n"
          ]
        },
        {
          "output_type": "stream",
          "name": "stderr",
          "text": [
            "INFO:werkzeug:127.0.0.1 - - [10/Aug/2024 12:25:18] \"POST / HTTP/1.1\" 200 -\n"
          ]
        },
        {
          "output_type": "stream",
          "name": "stdout",
          "text": [
            "idk what's going on\n",
            "\n"
          ]
        },
        {
          "output_type": "stream",
          "name": "stderr",
          "text": [
            "INFO:werkzeug:127.0.0.1 - - [10/Aug/2024 12:25:21] \"POST / HTTP/1.1\" 200 -\n"
          ]
        },
        {
          "output_type": "stream",
          "name": "stdout",
          "text": [
            "(All) Me: gg\n",
            "same here\n",
            "\n"
          ]
        }
      ]
    }
  ]
}