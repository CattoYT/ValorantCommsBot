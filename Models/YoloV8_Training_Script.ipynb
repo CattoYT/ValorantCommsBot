{
  "metadata": {
    "kernelspec": {
      "name": "python3",
      "display_name": "Python 3",
      "language": "python"
    },
    "language_info": {
      "name": "python",
      "version": "3.10.13",
      "mimetype": "text/x-python",
      "codemirror_mode": {
        "name": "ipython",
        "version": 3
      },
      "pygments_lexer": "ipython3",
      "nbconvert_exporter": "python",
      "file_extension": ".py"
    },
    "kaggle": {
      "accelerator": "nvidiaTeslaT4",
      "dataSources": [
        {
          "sourceId": 9010721,
          "sourceType": "datasetVersion",
          "datasetId": 5428973
        }
      ],
      "dockerImageVersionId": 30747,
      "isInternetEnabled": true,
      "language": "python",
      "sourceType": "notebook",
      "isGpuEnabled": true
    },
    "colab": {
      "provenance": [],
      "gpuType": "T4",
      "toc_visible": true,
      "include_colab_link": true
    },
    "accelerator": "GPU"
  },
  "nbformat_minor": 0,
  "nbformat": 4,
  "cells": [
    {
      "cell_type": "markdown",
      "metadata": {
        "id": "view-in-github",
        "colab_type": "text"
      },
      "source": [
        "<a href=\"https://colab.research.google.com/github/CattoYT/ValorantCommsBot/blob/rewrite/YoloV8_Training_Script.ipynb\" target=\"_parent\"><img src=\"https://colab.research.google.com/assets/colab-badge.svg\" alt=\"Open In Colab\"/></a>"
      ]
    },
    {
      "cell_type": "code",
      "source": [
        "!nvidia-smi\n",
        "!pip install ultralytics\n",
        "\n",
        "#!pip install -U ipywidgets # mainly for kaggle\n",
        "\n",
        "!pip install pyngrok\n",
        "from pyngrok import conf, ngrok\n",
        "from google.colab import userdata\n",
        "\n",
        "#conf.get_default().auth_token = \"\" # use with kaggle\n",
        "conf.get_default().auth_token = userdata.get('NGROKToken')\n",
        "\n",
        "public_url = ngrok.connect(\"80\", domain=\"cheaply-caring-pup.ngrok-free.app\").public_url# change this domain\n",
        "\n",
        "\n",
        "\n",
        "print(public_url)\n"
      ],
      "metadata": {
        "_uuid": "8f2839f25d086af736a60e9eeb907d3b93b6e0e5",
        "_cell_guid": "b1076dfc-b9ad-4769-8c92-a6c4dae69d19",
        "id": "rVYBYAKX047G",
        "execution": {
          "iopub.status.busy": "2024-07-23T09:29:56.993163Z",
          "iopub.execute_input": "2024-07-23T09:29:56.993411Z",
          "iopub.status.idle": "2024-07-23T09:30:57.469722Z",
          "shell.execute_reply.started": "2024-07-23T09:29:56.993388Z",
          "shell.execute_reply": "2024-07-23T09:30:57.46875Z"
        },
        "trusted": true
      },
      "execution_count": null,
      "outputs": []
    },
    {
      "cell_type": "code",
      "source": [
        "# @title Download Dataset here\n",
        "\n",
        "from urllib.request import urlopen\n",
        "from zipfile import ZipFile\n",
        "from io import BytesIO\n",
        "dataseturl = \"\" # @param {type:\"string\"}\n",
        "datasetname = None\n",
        "\n",
        "with urlopen(dataseturl) as zipresp:\n",
        "    with ZipFile(BytesIO(zipresp.read())) as zfile:\n",
        "        !mkdir dataset\n",
        "        zfile.extractall(\"dataset\")"
      ],
      "metadata": {
        "id": "HntoantIFxgo"
      },
      "execution_count": 3,
      "outputs": []
    },
    {
      "cell_type": "code",
      "source": [
        "from google.colab import drive\n",
        "drive.mount('/content/drive')\n"
      ],
      "metadata": {
        "id": "IGt90yPf047H",
        "outputId": "8bddda24-32a3-435c-dada-4e73e9f96176",
        "colab": {
          "base_uri": "https://localhost:8080/"
        },
        "execution": {
          "iopub.status.busy": "2024-07-23T09:30:57.530013Z",
          "iopub.execute_input": "2024-07-23T09:30:57.53033Z",
          "iopub.status.idle": "2024-07-23T09:31:13.08034Z",
          "shell.execute_reply.started": "2024-07-23T09:30:57.530301Z",
          "shell.execute_reply": "2024-07-23T09:31:13.079478Z"
        },
        "trusted": true
      },
      "execution_count": 5,
      "outputs": [
        {
          "output_type": "stream",
          "name": "stdout",
          "text": [
            "Mounted at /content/drive\n"
          ]
        }
      ]
    },
    {
      "cell_type": "code",
      "source": [
        "from ultralytics import YOLO\n",
        "\n",
        "resume = True # @param {type:\"boolean\"}\n",
        "if resume:\n",
        "    #pass the training directory pls\n",
        "    resumeDir = \"/content/drive/MyDrive/Yolov8/ValorantV8\" # @param {type:\"string\"}\n",
        "    model = YOLO(resumeDir + \"/weights/last.pt\")\n",
        "else:\n",
        "    model = YOLO(\"yolov8s.pt\")\n"
      ],
      "metadata": {
        "id": "HsrVyaAe047H",
        "execution": {
          "iopub.status.busy": "2024-07-23T09:31:13.081631Z",
          "iopub.execute_input": "2024-07-23T09:31:13.081885Z",
          "iopub.status.idle": "2024-07-23T09:31:16.924478Z",
          "shell.execute_reply.started": "2024-07-23T09:31:13.081863Z",
          "shell.execute_reply": "2024-07-23T09:31:16.923607Z"
        },
        "trusted": true
      },
      "execution_count": 6,
      "outputs": []
    },
    {
      "cell_type": "code",
      "source": [
        "\n",
        "# @title Default title text\n",
        "dataDirectory = \"dataset\" # @param {type:\"string\"}\n",
        "import os\n",
        "os.environ['WANDB_MODE'] = 'disabled'\n",
        "%load_ext tensorboard\n",
        "\n",
        "if resume:\n",
        "    %tensorboard --port=80 --logdir /content/drive/MyDrive/Yolov8/\n",
        "    model.train(resume=True, device=0)\n",
        "\n",
        "else:\n",
        "    %tensorboard --port=80 --logdir runs/detect/train\n",
        "\n",
        "    results = model.train(data=f\"/content/dataset/data.yaml\", #\n",
        "                      epochs=400,\n",
        "                      imgsz=640,\n",
        "                      cache=True,\n",
        "                      batch=0.969, # set to 0.90 for colab\n",
        "                      patience=25,\n",
        "                      save_period=10,\n",
        "                      verbose=True,\n",
        "                      device=1,\n",
        "                      #device=[0,1],\n",
        "                      project=\"/content/drive/MyDrive/Yolov8\",\n",
        "                      name=\"ValorantV8\"\n",
        "                     )"
      ],
      "metadata": {
        "id": "RjYCfGbQ047I",
        "colab": {
          "base_uri": "https://localhost:8080/"
        },
        "outputId": "6622ae9d-49fd-44da-f8e3-6a9b98970345",
        "execution": {
          "iopub.status.busy": "2024-07-23T09:31:16.927081Z",
          "iopub.execute_input": "2024-07-23T09:31:16.927501Z"
        },
        "trusted": true,
        "collapsed": true
      },
      "execution_count": null,
      "outputs": [
        {
          "output_type": "stream",
          "name": "stderr",
          "text": [
            "     41/250      14.3G      1.021     0.5404     0.9459         86        640:  59%|█████▊    | 64/109 [01:28<00:56,  1.26s/it]"
          ]
        }
      ]
    },
    {
      "cell_type": "code",
      "source": [
        "# @title Export Model\n",
        "model.export(format=\"onnx\", dynamic=True) # no idea if engine works properly in this environment.\n",
        "#If you want to export to tensorrt, make sure this is running on the correct device.\n",
        "#For now, onnx will do ig"
      ],
      "metadata": {
        "id": "fXzf5oszh0Uc"
      },
      "execution_count": null,
      "outputs": []
    },
    {
      "cell_type": "code",
      "source": [
        "def exportModel(directory):\n",
        "    from google.colab import files\n",
        "\n",
        "    !zip -r {directory}.zip {directory}\n",
        "    files.download(f\"{directory}.zip\")\n",
        "\n",
        "if resume == True:\n",
        "    exportModel(resumeDir+\"/weights/\")\n",
        "else:\n",
        "    exportModel(\"runs/detect/train\")"
      ],
      "metadata": {
        "id": "895__hW8047I"
      },
      "execution_count": null,
      "outputs": []
    }
  ]
}